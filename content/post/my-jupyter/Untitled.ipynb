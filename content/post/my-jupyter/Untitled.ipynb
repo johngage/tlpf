{
 "cells": [
  {
   "cell_type": "code",
   "execution_count": 1,
   "id": "flush-tongue",
   "metadata": {},
   "outputs": [
    {
     "data": {
      "text/plain": [
       "4"
      ]
     },
     "execution_count": 1,
     "metadata": {},
     "output_type": "execute_result"
    }
   ],
   "source": [
    "2+2"
   ]
  },
  {
   "cell_type": "markdown",
   "id": "passive-ferry",
   "metadata": {},
   "source": [
    "### This is the second cell of my notebook\n",
    "And this is text in the cell\n",
    "> with a codeblock"
   ]
  },
  {
   "cell_type": "code",
   "execution_count": null,
   "id": "romance-shirt",
   "metadata": {},
   "outputs": [],
   "source": []
  }
 ],
 "metadata": {
  "kernelspec": {
   "display_name": "Python 3",
   "language": "python",
   "name": "python3"
  },
  "language_info": {
   "codemirror_mode": {
    "name": "ipython",
    "version": 3
   },
   "file_extension": ".py",
   "mimetype": "text/x-python",
   "name": "python",
   "nbconvert_exporter": "python",
   "pygments_lexer": "ipython3",
   "version": "3.9.1"
  }
 },
 "nbformat": 4,
 "nbformat_minor": 5
}
